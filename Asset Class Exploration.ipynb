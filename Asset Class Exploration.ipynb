{
 "cells": [
  {
   "cell_type": "code",
   "execution_count": 3,
   "id": "4b98ae58",
   "metadata": {},
   "outputs": [],
   "source": [
    "import numpy as np\n",
    "import pandas as pd\n",
    "\n",
    "# Import Data Set from given Excel sheet\n",
    "bitcoin_data = pd.read_excel('Asset Pricing Data.xlsx', sheet_name = 0)\n",
    "ethereum_data = pd.read_excel('Asset Pricing Data.xlsx', sheet_name = 1)\n",
    "doge_data = pd.read_excel('Asset Pricing Data.xlsx', sheet_name = 2)\n",
    "gold_data = pd.read_excel('Asset Pricing Data.xlsx', sheet_name = 3)\n",
    "SP500_data = pd.read_excel('Asset Pricing Data.xlsx', sheet_name = 4)"
   ]
  },
  {
   "cell_type": "code",
   "execution_count": 1,
   "id": "5e086219",
   "metadata": {},
   "outputs": [],
   "source": [
    "#bitcoin_data.head()\n",
    "#ethereum_data.head()\n",
    "#doge_data.head()\n",
    "#gold_data.info()\n",
    "#SP500_data.head()"
   ]
  },
  {
   "cell_type": "markdown",
   "id": "8914413f",
   "metadata": {},
   "source": [
    "### Cleaning the Data Set before Exploration"
   ]
  },
  {
   "cell_type": "code",
   "execution_count": 4,
   "id": "de65f1a1",
   "metadata": {},
   "outputs": [],
   "source": [
    "# To remove one row where all values are '-'\n",
    "\n",
    "gold_data = gold_data.drop(gold_data[gold_data.Date == \"29/1/2018\"].index)\n",
    "\n",
    "# To remove 4 rows where corresponding cryptocurrencies do not have close value\n",
    "gold_data = gold_data.drop(gold_data[gold_data.Date == \"2020/10/13\"].index)\n",
    "gold_data = gold_data.drop(gold_data[gold_data.Date == \"2020/10/12\"].index)\n",
    "gold_data = gold_data.drop(gold_data[gold_data.Date == \"2020/10/9\"].index)\n",
    "gold_data = gold_data.drop(gold_data[gold_data.Date == \"2020/4/17\"].index)\n",
    "\n",
    "SP500_data = SP500_data.drop(SP500_data[SP500_data.Date == \"2020/10/13\"].index)\n",
    "SP500_data = SP500_data.drop(SP500_data[SP500_data.Date == \"2020/10/12\"].index)\n",
    "SP500_data = SP500_data.drop(SP500_data[SP500_data.Date == \"2020/10/9\"].index)\n",
    "SP500_data = SP500_data.drop(SP500_data[SP500_data.Date == \"2020/4/17\"].index)"
   ]
  },
  {
   "cell_type": "markdown",
   "id": "bf87be83",
   "metadata": {},
   "source": [
    "### Extracting the Closing price values for each asset class"
   ]
  },
  {
   "cell_type": "code",
   "execution_count": 5,
   "id": "587d8523",
   "metadata": {},
   "outputs": [],
   "source": [
    "bitcoin_close = pd.DataFrame(bitcoin_data[[\"Date\", \"Close\"]])\n",
    "ethereum_close = pd.DataFrame(ethereum_data[[\"Date\", \"Close\"]])\n",
    "doge_close = pd.DataFrame(doge_data[[\"Date\", \"Close\"]])\n",
    "gold_data[\"Close\"] = gold_data[\"Close\"].astype('float')\n",
    "gold_close = pd.DataFrame(gold_data[[\"Date\", \"Close\"]])\n",
    "\n",
    "SP500_close = pd.DataFrame(SP500_data[[\"Date\", \"Close\"]])"
   ]
  },
  {
   "cell_type": "markdown",
   "id": "9be3f8cc",
   "metadata": {},
   "source": [
    "### Combining data for the 3 crytocurrencies"
   ]
  },
  {
   "cell_type": "code",
   "execution_count": 6,
   "id": "ebd8830e",
   "metadata": {},
   "outputs": [],
   "source": [
    "# Merge BTC and ETH\n",
    "crypto_data = bitcoin_close.merge(ethereum_close, left_on='Date', right_on='Date')\n",
    "crypto_data = crypto_data.rename(columns={\"Close_x\" : \"BTC_Close\", \"Close_y\" : \"ETH_Close\"})\n",
    "\n",
    "\n",
    "# Merge Doge with existing 2 asset classes\n",
    "crypto_data = crypto_data.merge(doge_close, left_on='Date', right_on='Date')\n",
    "crypto_data = crypto_data.rename(columns={\"Close\" : \"Doge_Close\"})"
   ]
  },
  {
   "cell_type": "code",
   "execution_count": 7,
   "id": "25fa3d54",
   "metadata": {},
   "outputs": [],
   "source": [
    "crypto_data = crypto_data.set_index('Date')"
   ]
  },
  {
   "cell_type": "code",
   "execution_count": 9,
   "id": "55ac3890",
   "metadata": {},
   "outputs": [],
   "source": [
    "#crypto_data.corr()"
   ]
  },
  {
   "cell_type": "markdown",
   "id": "b8fd3c12",
   "metadata": {},
   "source": [
    "## Since the weekly trading window for Gold and S&P500 differ, we will compare the group of cryptocurrencies against each asset separately"
   ]
  },
  {
   "cell_type": "markdown",
   "id": "3de8e0a4",
   "metadata": {},
   "source": [
    "## Set 1 : Crypto + Gold"
   ]
  },
  {
   "cell_type": "code",
   "execution_count": 11,
   "id": "5dc1d441",
   "metadata": {},
   "outputs": [
    {
     "name": "stdout",
     "output_type": "stream",
     "text": [
      "<class 'pandas.core.frame.DataFrame'>\n",
      "DatetimeIndex: 1827 entries, 2021-12-15 to 2016-12-15\n",
      "Data columns (total 4 columns):\n",
      " #   Column      Non-Null Count  Dtype  \n",
      "---  ------      --------------  -----  \n",
      " 0   BTC_Close   1823 non-null   float64\n",
      " 1   ETH_Close   1823 non-null   float64\n",
      " 2   Doge_Close  1823 non-null   float64\n",
      " 3   Gold_Close  1257 non-null   float64\n",
      "dtypes: float64(4)\n",
      "memory usage: 71.4 KB\n"
     ]
    }
   ],
   "source": [
    "# Merge Gold with existing 3 crypto assets\n",
    "crypto_gold = crypto_data.merge(gold_close, how='left', left_on='Date', right_on='Date')\n",
    "crypto_gold = crypto_gold.rename(columns={\"Close\" : \"Gold_Close\"})\n",
    "\n",
    "\n",
    "crypto_gold = crypto_gold.set_index('Date')\n",
    "crypto_gold.info()"
   ]
  },
  {
   "cell_type": "code",
   "execution_count": 12,
   "id": "9fe46e75",
   "metadata": {},
   "outputs": [
    {
     "data": {
      "text/html": [
       "<div>\n",
       "<style scoped>\n",
       "    .dataframe tbody tr th:only-of-type {\n",
       "        vertical-align: middle;\n",
       "    }\n",
       "\n",
       "    .dataframe tbody tr th {\n",
       "        vertical-align: top;\n",
       "    }\n",
       "\n",
       "    .dataframe thead th {\n",
       "        text-align: right;\n",
       "    }\n",
       "</style>\n",
       "<table border=\"1\" class=\"dataframe\">\n",
       "  <thead>\n",
       "    <tr style=\"text-align: right;\">\n",
       "      <th></th>\n",
       "      <th>BTC_Close</th>\n",
       "      <th>ETH_Close</th>\n",
       "      <th>Doge_Close</th>\n",
       "      <th>Gold_Close</th>\n",
       "    </tr>\n",
       "  </thead>\n",
       "  <tbody>\n",
       "    <tr>\n",
       "      <th>BTC_Close</th>\n",
       "      <td>1.000000</td>\n",
       "      <td>0.689398</td>\n",
       "      <td>0.467352</td>\n",
       "      <td>0.076692</td>\n",
       "    </tr>\n",
       "    <tr>\n",
       "      <th>ETH_Close</th>\n",
       "      <td>0.689398</td>\n",
       "      <td>1.000000</td>\n",
       "      <td>0.444276</td>\n",
       "      <td>0.072958</td>\n",
       "    </tr>\n",
       "    <tr>\n",
       "      <th>Doge_Close</th>\n",
       "      <td>0.467352</td>\n",
       "      <td>0.444276</td>\n",
       "      <td>1.000000</td>\n",
       "      <td>0.027722</td>\n",
       "    </tr>\n",
       "    <tr>\n",
       "      <th>Gold_Close</th>\n",
       "      <td>0.076692</td>\n",
       "      <td>0.072958</td>\n",
       "      <td>0.027722</td>\n",
       "      <td>1.000000</td>\n",
       "    </tr>\n",
       "  </tbody>\n",
       "</table>\n",
       "</div>"
      ],
      "text/plain": [
       "            BTC_Close  ETH_Close  Doge_Close  Gold_Close\n",
       "BTC_Close    1.000000   0.689398    0.467352    0.076692\n",
       "ETH_Close    0.689398   1.000000    0.444276    0.072958\n",
       "Doge_Close   0.467352   0.444276    1.000000    0.027722\n",
       "Gold_Close   0.076692   0.072958    0.027722    1.000000"
      ]
     },
     "execution_count": 12,
     "metadata": {},
     "output_type": "execute_result"
    }
   ],
   "source": [
    "# Perform correlation on Logarithmic values to reduce disparity of prices between assets\n",
    "\n",
    "log_crypto_gold = np.log(crypto_gold/crypto_gold.shift())\n",
    "\n",
    "log_crypto_gold.corr()"
   ]
  },
  {
   "cell_type": "markdown",
   "id": "97dcf8b2",
   "metadata": {},
   "source": [
    "## Set 2 : Crypto + S&P500"
   ]
  },
  {
   "cell_type": "code",
   "execution_count": 13,
   "id": "4f79c126",
   "metadata": {},
   "outputs": [
    {
     "name": "stdout",
     "output_type": "stream",
     "text": [
      "<class 'pandas.core.frame.DataFrame'>\n",
      "DatetimeIndex: 1827 entries, 2021-12-15 to 2016-12-15\n",
      "Data columns (total 4 columns):\n",
      " #   Column        Non-Null Count  Dtype  \n",
      "---  ------        --------------  -----  \n",
      " 0   BTC_Close     1823 non-null   float64\n",
      " 1   ETH_Close     1823 non-null   float64\n",
      " 2   Doge_Close    1823 non-null   float64\n",
      " 3   S&P500_Close  1255 non-null   float64\n",
      "dtypes: float64(4)\n",
      "memory usage: 71.4 KB\n"
     ]
    }
   ],
   "source": [
    "# Merge S&P500 with existing 3 crypto assets\n",
    "crypto_sp500 = crypto_data.merge(SP500_close, how='left', left_on='Date', right_on='Date')\n",
    "crypto_sp500 = crypto_sp500.rename(columns={\"Close\" : \"S&P500_Close\"})\n",
    "\n",
    "crypto_sp500 = crypto_sp500.set_index('Date')\n",
    "crypto_sp500.info()"
   ]
  },
  {
   "cell_type": "code",
   "execution_count": 14,
   "id": "c814ba23",
   "metadata": {},
   "outputs": [
    {
     "data": {
      "text/html": [
       "<div>\n",
       "<style scoped>\n",
       "    .dataframe tbody tr th:only-of-type {\n",
       "        vertical-align: middle;\n",
       "    }\n",
       "\n",
       "    .dataframe tbody tr th {\n",
       "        vertical-align: top;\n",
       "    }\n",
       "\n",
       "    .dataframe thead th {\n",
       "        text-align: right;\n",
       "    }\n",
       "</style>\n",
       "<table border=\"1\" class=\"dataframe\">\n",
       "  <thead>\n",
       "    <tr style=\"text-align: right;\">\n",
       "      <th></th>\n",
       "      <th>BTC_Close</th>\n",
       "      <th>ETH_Close</th>\n",
       "      <th>Doge_Close</th>\n",
       "      <th>S&amp;P500_Close</th>\n",
       "    </tr>\n",
       "  </thead>\n",
       "  <tbody>\n",
       "    <tr>\n",
       "      <th>BTC_Close</th>\n",
       "      <td>1.000000</td>\n",
       "      <td>0.689398</td>\n",
       "      <td>0.467352</td>\n",
       "      <td>0.220237</td>\n",
       "    </tr>\n",
       "    <tr>\n",
       "      <th>ETH_Close</th>\n",
       "      <td>0.689398</td>\n",
       "      <td>1.000000</td>\n",
       "      <td>0.444276</td>\n",
       "      <td>0.231029</td>\n",
       "    </tr>\n",
       "    <tr>\n",
       "      <th>Doge_Close</th>\n",
       "      <td>0.467352</td>\n",
       "      <td>0.444276</td>\n",
       "      <td>1.000000</td>\n",
       "      <td>0.110418</td>\n",
       "    </tr>\n",
       "    <tr>\n",
       "      <th>S&amp;P500_Close</th>\n",
       "      <td>0.220237</td>\n",
       "      <td>0.231029</td>\n",
       "      <td>0.110418</td>\n",
       "      <td>1.000000</td>\n",
       "    </tr>\n",
       "  </tbody>\n",
       "</table>\n",
       "</div>"
      ],
      "text/plain": [
       "              BTC_Close  ETH_Close  Doge_Close  S&P500_Close\n",
       "BTC_Close      1.000000   0.689398    0.467352      0.220237\n",
       "ETH_Close      0.689398   1.000000    0.444276      0.231029\n",
       "Doge_Close     0.467352   0.444276    1.000000      0.110418\n",
       "S&P500_Close   0.220237   0.231029    0.110418      1.000000"
      ]
     },
     "execution_count": 14,
     "metadata": {},
     "output_type": "execute_result"
    }
   ],
   "source": [
    "# Perform correlation on Logarithmic values to reduce disparity of prices between assets\n",
    "\n",
    "log_crypto_sp500 = np.log(crypto_sp500/crypto_sp500.shift())\n",
    "\n",
    "log_crypto_sp500.corr()"
   ]
  },
  {
   "cell_type": "code",
   "execution_count": null,
   "id": "40436c09",
   "metadata": {},
   "outputs": [],
   "source": []
  }
 ],
 "metadata": {
  "kernelspec": {
   "display_name": "Python 3 (ipykernel)",
   "language": "python",
   "name": "python3"
  },
  "language_info": {
   "codemirror_mode": {
    "name": "ipython",
    "version": 3
   },
   "file_extension": ".py",
   "mimetype": "text/x-python",
   "name": "python",
   "nbconvert_exporter": "python",
   "pygments_lexer": "ipython3",
   "version": "3.9.7"
  }
 },
 "nbformat": 4,
 "nbformat_minor": 5
}
